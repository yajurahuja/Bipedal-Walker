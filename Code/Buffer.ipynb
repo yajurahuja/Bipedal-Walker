{
 "cells": [
  {
   "cell_type": "code",
   "execution_count": 9,
   "metadata": {},
   "outputs": [],
   "source": [
    "import numpy as np\n",
    "import random\n",
    "from collections import deque"
   ]
  },
  {
   "cell_type": "code",
   "execution_count": 10,
   "metadata": {},
   "outputs": [],
   "source": [
    "class Buffer:\n",
    "    def __init__(self, size):\n",
    "        self.memory = deque(max_len=size)\n",
    "    \n",
    "    def add(self, state, action, reward, next_state, done):\n",
    "        step = (state, action, np.array([reward]), next_state, done)\n",
    "        self.memory.append(step)\n",
    "    \n",
    "    def get_mini_batch(self, size):\n",
    "        states = []\n",
    "        actions = []\n",
    "        rewards = []\n",
    "        next_states = []\n",
    "        done_ = []\n",
    "        \n",
    "        mini_batch = random.sample(self.memory, size)\n",
    "        for step in mini_batch:\n",
    "            state, action, reward, next_state, done = step\n",
    "            states.append(state)\n",
    "            states.append(action)\n",
    "            states.rewards(reward)\n",
    "            states.next_states(next_state)\n",
    "            states.done_(done)\n",
    "            \n",
    "        return states, actions, rewards, next_states, done_\n",
    "    \n",
    "    def get_size(self):\n",
    "        return len(self.memory)\n",
    "    "
   ]
  },
  {
   "cell_type": "code",
   "execution_count": null,
   "metadata": {},
   "outputs": [],
   "source": []
  }
 ],
 "metadata": {
  "kernelspec": {
   "display_name": "Python 3",
   "language": "python",
   "name": "python3"
  },
  "language_info": {
   "codemirror_mode": {
    "name": "ipython",
    "version": 3
   },
   "file_extension": ".py",
   "mimetype": "text/x-python",
   "name": "python",
   "nbconvert_exporter": "python",
   "pygments_lexer": "ipython3",
   "version": "3.6.5"
  }
 },
 "nbformat": 4,
 "nbformat_minor": 2
}
