{
 "cells": [
  {
   "cell_type": "code",
   "execution_count": 10,
   "metadata": {},
   "outputs": [],
   "source": [
    "import torch\n",
    "import import_ipynb\n",
    "import torch.autograd\n",
    "import torch.optim as optim\n",
    "import torch.nn as nn\n",
    "from Architecture import *\n",
    "from Noise import *\n",
    "    "
   ]
  },
  {
   "cell_type": "code",
   "execution_count": 11,
   "metadata": {},
   "outputs": [],
   "source": [
    "class Agent:\n",
    "    def __init__(self, env, hidden_size=256, actor_alpha=1e-4, critic_alpha=1e-3, gamma=0.99, tau=1e-2, max_memory_size=50000):\n",
    "        self.env = env\n",
    "        self.hidden_size = hidden_size\n",
    "        self.actor_alpha = actor_alpha\n",
    "        self.critic_alpha = critic_alpha\n",
    "        self.gamma = gamma\n",
    "        self.tau = tau\n",
    "\n",
    "        n_states = self.env.observation_space[0]\n",
    "        n_actions = self.env.action_space[0]\n",
    "        #create Actor Network\n",
    "        Actor = Actor(n_states, self.hidden_size, n_actions)\n",
    "        Actor_t = Actor(n_states, self.hidden_size, n_actions)\n",
    "        #create Critic Network\n",
    "        Critic = Critic(n_states + n_actions, hidden_size, n_actions)\n",
    "        Critic_t = Critic(n_states + n_actions, hidden_size, n_actions)\n",
    "        #create noise\n",
    "        noise = Noise(self.env.action_space)\n",
    "        #create buffer\n",
    "        replay_buffer = Buffer(max_memory_size)\n",
    "        \n",
    "    def push_buffer(self, state, action, reward, next_state, done):\n",
    "        self.buffer.add(state, action, reward, next_state, done)\n",
    "        #if buffer is full\n",
    "        if(self.buffer.get_size() > batch_size):\n",
    "            self.update(mini_batch_size)\n",
    "    \n",
    "        \n",
    "    def get_action(self, state, step):\n",
    "        state = torch.tensor(state.unsqueeze(0))\n",
    "        action = np.clip(action.numpy() + self.noise.get_state(), self.env.action_space.low, self.env.action_space.high)\n",
    "        return action\n",
    "        \n",
    "        \n",
    "    def update(self, mini_batch_size):\n",
    "        states, actions, rewards, next_states, dones = self.buffer.get_mini_batch(mini_batch_size)\n",
    "        #update Critic\n",
    "        #update Actor\n",
    "        #update Target network\n",
    "        \n",
    "        \n",
    "        "
   ]
  },
  {
   "cell_type": "code",
   "execution_count": null,
   "metadata": {},
   "outputs": [],
   "source": []
  }
 ],
 "metadata": {
  "kernelspec": {
   "display_name": "Python 3",
   "language": "python",
   "name": "python3"
  },
  "language_info": {
   "codemirror_mode": {
    "name": "ipython",
    "version": 3
   },
   "file_extension": ".py",
   "mimetype": "text/x-python",
   "name": "python",
   "nbconvert_exporter": "python",
   "pygments_lexer": "ipython3",
   "version": "3.6.5"
  }
 },
 "nbformat": 4,
 "nbformat_minor": 2
}
